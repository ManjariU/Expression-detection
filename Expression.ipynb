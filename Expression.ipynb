{
  "cells": [
    {
      "cell_type": "code",
      "execution_count": null,
      "metadata": {
        "id": "ylI1krT2IMZL"
      },
      "outputs": [],
      "source": [
        "\n",
        "from keras.preprocessing.image import ImageDataGenerator, array_to_img, img_to_array, load_img\n",
        "import numpy as np\n",
        "\n",
        "randomImage1 = ImageDataGenerator(\n",
        "        rotation_range=40,\n",
        "        width_shift_range=0.2,\n",
        "        height_shift_range=0.2,\n",
        "        shear_range=0.2,\n",
        "        zoom_range=0.2,\n",
        "        horizontal_flip=True,\n",
        "        fill_mode='nearest')\n",
        "\n",
        "randomImage2 = ImageDataGenerator(\n",
        "        rotation_range=30,\n",
        "        width_shift_range=0.4,\n",
        "        height_shift_range=0.3,\n",
        "        shear_range=0.1,\n",
        "        zoom_range=0.1,\n",
        "        horizontal_flip=False,\n",
        "        vertical_flip= True,\n",
        "        fill_mode='nearest')\n"
      ]
    },
    {
      "cell_type": "code",
      "execution_count": null,
      "metadata": {
        "id": "THNLysfvQ6SN"
      },
      "outputs": [],
      "source": [
        "import os\n",
        "var = (os.listdir('/content/drive/MyDrive/EXPRESSION_PROJECT/Surprise'))\n",
        "surprise = []\n",
        "for a in var :\n",
        "  surprise.append(f\"/content/drive/MyDrive/EXPRESSION_PROJECT/Surprise/{a}\")\n",
        "# print(happy)"
      ]
    },
    {
      "cell_type": "code",
      "execution_count": null,
      "metadata": {
        "id": "tgrwgluUKawP"
      },
      "outputs": [],
      "source": [
        "import cv2\n",
        "for j in surprise:\n",
        "  img = load_img(f\"{j}\")\n",
        "  x = img_to_array(img) \n",
        "  x = cv2.resize(x, dsize=(60,60), interpolation=cv2.INTER_CUBIC)    # For resizing\n",
        "  x = np.expand_dims(x, axis=0)\n",
        "\n",
        "  i = 0\n",
        "  \n",
        "  for random1 in randomImage1.flow(x, batch_size=1,save_to_dir='/content/drive/MyDrive/EXPRESSION_PROJECT/Surprise_data',save_prefix='surprise1' ,save_format='jpeg'):\n",
        "      i += 1\n",
        "      # print(i)\n",
        "      k = 0\n",
        "      if i > 50: # total number of images\n",
        "          # break\n",
        "  \n",
        "          for random2 in randomImage2.flow(x, batch_size=1,save_to_dir='/content/drive/MyDrive/EXPRESSION_PROJECT/Surprise_data',save_prefix='surprise2' ,save_format='jpeg'):\n",
        "              k += 1\n",
        "              # print(k)\n",
        "\n",
        "              if k > 50: # total number of images\n",
        "                  break\n",
        "          break"
      ]
    },
    {
      "cell_type": "code",
      "execution_count": null,
      "metadata": {
        "colab": {
          "base_uri": "https://localhost:8080/"
        },
        "id": "StPSWF_WJvVj",
        "outputId": "6a1e5a98-16be-4057-dc9d-013f7f46c947"
      },
      "outputs": [
        {
          "name": "stdout",
          "output_type": "stream",
          "text": [
            "5337\n"
          ]
        }
      ],
      "source": [
        "import os\n",
        "h = (os.listdir('/content/drive/MyDrive/EXPRESSION_PROJECT/Surprise_data'))\n",
        "print(len(h))"
      ]
    },
    {
      "cell_type": "code",
      "execution_count": null,
      "metadata": {
        "id": "0_AgxpsgCuFM"
      },
      "outputs": [],
      "source": [
        "from urllib.request import urlretrieve\n",
        "import matplotlib.pyplot as plt\n",
        "import numpy as np\n",
        "import os\n",
        "import cv2\n",
        "from itertools import chain\n",
        "\n",
        "allfile = os.listdir(\"/content/drive/MyDrive/Modified_Expression\")\n",
        "f_name = [\"Anger_data\", \"Courage_data\", \"Disgust_data\", \"Fear_data\", \"Happy_data\", \"Love_data\", \"Peace_data\", \"Sorrow_data\", \"Surprise_data\"]\n",
        "\n",
        "listfile = [\"1.npy\",\"2.npy\",\"3.npy\"]\n",
        "data = []\n",
        "class_index = 0\n",
        "\n",
        "\n",
        "for file_name in allfile:\n",
        "  index = 0 \n",
        "  file_name = os.listdir(f\"/content/drive/MyDrive/Modified_Expression/{file_name}\")\n",
        "  # print(file_name)\n",
        "  for image in file_name:\n",
        "    file = cv2.imread(f\"/content/drive/MyDrive/Modified_Expression/{f_name[class_index]}/{image}\") \n",
        "    print(index)\n",
        "    index += 1\n",
        "    data.append([file, class_index])\n",
        "\n",
        "\n",
        "  class_index += 1\n",
        "  print(class_index)\n",
        "\n",
        "  if (class_index == 3):\n",
        "    np.save(\"/content/drive/MyDrive/1.npy\",np.array(data))\n",
        "    data.clear()\n",
        "  elif (class_index == 6):\n",
        "    np.save(\"/content/drive/MyDrive/2.npy\",np.array(data))\n",
        "    data.clear()\n",
        "  elif (class_index == 9):\n",
        "    np.save(\"/content/drive/MyDrive/3.npy\",np.array(data))\n",
        "    data.clear()\n",
        "    break\n",
        "\n",
        "\n",
        "for i in range(3):\n",
        "  new_data = np.load(\"/content/drive/MyDrive/\" + listfile[i], allow_pickle= True)\n",
        "  data.append(new_data)\n",
        "data = list(chain.from_iterable(data))\n",
        "\n",
        "\n",
        "data = np.array(data)\n",
        "print(data.shape)\n",
        "np.save(\"/content/drive/MyDrive/dataset.npy\", data)\n"
      ]
    },
    {
      "cell_type": "code",
      "execution_count": null,
      "metadata": {
        "colab": {
          "base_uri": "https://localhost:8080/"
        },
        "id": "TFYGf0aCYxyG",
        "outputId": "057ad5c2-829e-4ea8-d245-b8eb025ca9ab"
      },
      "outputs": [
        {
          "name": "stdout",
          "output_type": "stream",
          "text": [
            "<class 'numpy.ndarray'>\n",
            "(60, 60, 3)\n"
          ]
        }
      ],
      "source": [
        "\n",
        "import cv2 \n",
        "a = cv2.imread(\"/content/drive/MyDrive/Modified_Expression/Anger_data/anger1_0_1.jpeg\")\n",
        "print(type(a))\n",
        "print(a.shape)"
      ]
    },
    {
      "cell_type": "code",
      "execution_count": null,
      "metadata": {
        "id": "NXEUY9Jul6UX"
      },
      "outputs": [],
      "source": [
        "list = [[\"a\", 0],[\"b\", 1]]"
      ]
    },
    {
      "cell_type": "code",
      "execution_count": null,
      "metadata": {
        "colab": {
          "base_uri": "https://localhost:8080/"
        },
        "id": "Fg4yGrLNbroK",
        "outputId": "3dd05710-67c7-45fb-e801-a54f3ccc59d4"
      },
      "outputs": [
        {
          "output_type": "stream",
          "name": "stdout",
          "text": [
            "Mounted at /content/drive\n"
          ]
        }
      ],
      "source": [
        "from google.colab import drive\n",
        "drive.mount('/content/drive')"
      ]
    },
    {
      "cell_type": "code",
      "execution_count": null,
      "metadata": {
        "colab": {
          "base_uri": "https://localhost:8080/",
          "height": 302
        },
        "id": "4D_VexGSfb5L",
        "outputId": "e11618e5-fa42-4458-efa5-f56dce97360a"
      },
      "outputs": [
        {
          "output_type": "stream",
          "name": "stdout",
          "text": [
            "(41501, 2)\n",
            "0\n"
          ]
        },
        {
          "output_type": "display_data",
          "data": {
            "image/png": "[encoded data removed]",
            "text/plain": [
              "<Figure size 432x288 with 1 Axes>"
            ]
          },
          "metadata": {
            "needs_background": "light"
          }
        }
      ],
      "source": [
        "import numpy as np\n",
        "dummy = np.load(\"/content/drive/MyDrive/dataset.npy\", allow_pickle=True)\n",
        "print (dummy.shape)\n",
        "label = dummy[:,1]\n",
        "img = dummy[:,0]\n",
        "import matplotlib.pyplot as plt\n",
        "plt.imshow(img[35])\n",
        "print(label[35])"
      ]
    },
    {
      "cell_type": "code",
      "execution_count": null,
      "metadata": {
        "id": "Z-UifArnVg92"
      },
      "outputs": [],
      "source": [
        "import cv2 \n",
        "a = img[0:4533] #anger\n",
        "b = img[16205:21568] #happy\n",
        "c = img[21569:26432] #love\n",
        "d = img[30855:36163] #sorrow\n",
        "e = img[36164:41500] #surprise\n",
        "\n",
        "a1 = label[0:4533]  #anger\n",
        "b1 = label[16205:21568] #happy\n",
        "c1 = label[21569:26432] #love\n",
        "d1 = label[30855:36163] #sorrow\n",
        "e1 = label[36164:41500] #surprise\n",
        "\n",
        "imgdata = [cv2.cvtColor(s,cv2.COLOR_BGR2GRAY) for s in a ]\n",
        "imglabel = [0 for i in range(len(a1)) ]\n",
        "for i in range(len(b)):\n",
        "  imgdata.append(cv2.cvtColor(b[i],cv2.COLOR_BGR2GRAY))\n",
        "  imglabel.append(1)\n",
        "for j in range(len(c)):\n",
        "  imgdata.append(cv2.cvtColor(c[j],cv2.COLOR_BGR2GRAY))\n",
        "  imglabel.append(2)\n",
        "\n",
        "for k in range(len(d)):\n",
        "  imgdata.append(cv2.cvtColor(d[k],cv2.COLOR_BGR2GRAY))\n",
        "  imglabel.append(3)\n",
        "for l in range(len(e)):\n",
        "  imgdata.append(cv2.cvtColor(e[l],cv2.COLOR_BGR2GRAY))\n",
        "  imglabel.append(4)\n"
      ]
    },
    {
      "cell_type": "code",
      "execution_count": null,
      "metadata": {
        "colab": {
          "base_uri": "https://localhost:8080/"
        },
        "id": "rSQxIyNPaNre",
        "outputId": "161f3e2b-d775-47cb-d61a-2bda43f0db85"
      },
      "outputs": [
        {
          "output_type": "stream",
          "name": "stdout",
          "text": [
            "(25403, 60, 60)\n",
            "(25403,)\n",
            "[0 0 0 ... 4 4 4]\n"
          ]
        }
      ],
      "source": [
        "import numpy as np\n",
        "imgdata = np.array(imgdata)\n",
        "imglabel = np.array(imglabel)\n",
        "print(imgdata.shape)\n",
        "print(imglabel.shape)\n",
        "print(imglabel)"
      ]
    },
    {
      "cell_type": "code",
      "execution_count": null,
      "metadata": {
        "colab": {
          "base_uri": "https://localhost:8080/"
        },
        "id": "oV1eIX2Ia30m",
        "outputId": "cde49f05-5a44-4222-fd2e-20c025363b2f"
      },
      "outputs": [
        {
          "output_type": "stream",
          "name": "stdout",
          "text": [
            "(25403,)\n"
          ]
        }
      ],
      "source": [
        "from tensorflow.keras.utils import to_categorical\n",
        "from sklearn.model_selection import train_test_split\n",
        "\n",
        "imgdata = imgdata.astype(\"float32\")\n",
        "imgdata = imgdata/255.0\n",
        "imgdata = imgdata.reshape(imgdata.shape[0],60,60,1)\n",
        "print(imglabel.shape)\n",
        "imglabel = to_categorical(imglabel)\n",
        "# print(imglabel.shape)\n",
        "x_train, x_test, y_train, y_test = train_test_split (imgdata, imglabel, train_size = 0.8, test_size = 0.2, random_state = 10)"
      ]
    },
    {
      "cell_type": "code",
      "execution_count": null,
      "metadata": {
        "colab": {
          "base_uri": "https://localhost:8080/"
        },
        "id": "75LjaSgejAxZ",
        "outputId": "a17da7bc-0dc4-4400-eec2-e1c0a3aa9b23"
      },
      "outputs": [
        {
          "output_type": "stream",
          "name": "stdout",
          "text": [
            "(25403, 5)\n"
          ]
        }
      ],
      "source": [
        "print(imglabel.shape) "
      ]
    },
    {
      "cell_type": "code",
      "execution_count": null,
      "metadata": {
        "id": "ZeNPwugHuQaN"
      },
      "outputs": [],
      "source": [
        "from tensorflow.keras import models,datasets,layers\n",
        "\n",
        "img_model = models.Sequential([\n",
        "                               layers.Conv2D(filters=64,kernel_size=(5,5),activation='relu',input_shape = (60,60,1)),\n",
        "                               layers.MaxPooling2D((2,2)),\n",
        "                               layers.Dropout(0.1),\n",
        "                               layers.Conv2D(filters=128,kernel_size=(3,3),activation='relu'),\n",
        "                               layers.MaxPooling2D((2,2)),\n",
        "                               layers.Dropout(0.1),\n",
        "                               layers.Conv2D(filters=256,kernel_size=(3,3),activation='relu'),\n",
        "                               layers.MaxPooling2D((2,2)),\n",
        "                               layers.Dropout(0.1),\n",
        "                               layers.Conv2D(filters=512,kernel_size=(3,3),activation='relu'),\n",
        "                               layers.MaxPooling2D((2,2)),\n",
        "                               layers.Dropout(0.1),\n",
        "\n",
        "                               \n",
        "                               layers.Flatten(),\n",
        "                               layers.Dense(170,activation='relu'),\n",
        "                               layers.Dense(500,activation='relu'),\n",
        "                               layers.Dense(5,activation='softmax')\n",
        "])"
      ]
    },
    {
      "cell_type": "code",
      "execution_count": null,
      "metadata": {
        "colab": {
          "base_uri": "https://localhost:8080/"
        },
        "id": "5IR2fREE9grQ",
        "outputId": "6ed72254-517b-4e6c-9e0a-1c1905ac396b"
      },
      "outputs": [
        {
          "output_type": "stream",
          "name": "stdout",
          "text": [
            "Model: \"sequential\"\n",
            "_________________________________________________________________\n",
            " Layer (type)                Output Shape              Param #   \n",
            "=================================================================\n",
            " conv2d (Conv2D)             (None, 56, 56, 64)        1664      \n",
            "                                                                 \n",
            " max_pooling2d (MaxPooling2D  (None, 28, 28, 64)       0         \n",
            " )                                                               \n",
            "                                                                 \n",
            " dropout (Dropout)           (None, 28, 28, 64)        0         \n",
            "                                                                 \n",
            " conv2d_1 (Conv2D)           (None, 26, 26, 128)       73856     \n",
            "                                                                 \n",
            " max_pooling2d_1 (MaxPooling  (None, 13, 13, 128)      0         \n",
            " 2D)                                                             \n",
            "                                                                 \n",
            " dropout_1 (Dropout)         (None, 13, 13, 128)       0         \n",
            "                                                                 \n",
            " conv2d_2 (Conv2D)           (None, 11, 11, 256)       295168    \n",
            "                                                                 \n",
            " max_pooling2d_2 (MaxPooling  (None, 5, 5, 256)        0         \n",
            " 2D)                                                             \n",
            "                                                                 \n",
            " dropout_2 (Dropout)         (None, 5, 5, 256)         0         \n",
            "                                                                 \n",
            " conv2d_3 (Conv2D)           (None, 3, 3, 512)         1180160   \n",
            "                                                                 \n",
            " max_pooling2d_3 (MaxPooling  (None, 1, 1, 512)        0         \n",
            " 2D)                                                             \n",
            "                                                                 \n",
            " dropout_3 (Dropout)         (None, 1, 1, 512)         0         \n",
            "                                                                 \n",
            " flatten (Flatten)           (None, 512)               0         \n",
            "                                                                 \n",
            " dense (Dense)               (None, 170)               87210     \n",
            "                                                                 \n",
            " dense_1 (Dense)             (None, 500)               85500     \n",
            "                                                                 \n",
            " dense_2 (Dense)             (None, 5)                 2505      \n",
            "                                                                 \n",
            "=================================================================\n",
            "Total params: 1,726,063\n",
            "Trainable params: 1,726,063\n",
            "Non-trainable params: 0\n",
            "_________________________________________________________________\n"
          ]
        }
      ],
      "source": [
        "img_model.summary()"
      ]
    },
    {
      "cell_type": "code",
      "execution_count": null,
      "metadata": {
        "id": "wOs3G178vTyR"
      },
      "outputs": [],
      "source": [
        "img_model.compile(\n",
        "    optimizer=\"adam\",\n",
        "    loss = 'categorical_crossentropy',\n",
        "    metrics = ['accuracy']\n",
        ")"
      ]
    },
    {
      "cell_type": "code",
      "execution_count": null,
      "metadata": {
        "colab": {
          "base_uri": "https://localhost:8080/"
        },
        "id": "22S805GqvbbX",
        "outputId": "3f2dcfbe-24e3-475b-b333-39d31ef7e099"
      },
      "outputs": [
        {
          "output_type": "stream",
          "name": "stdout",
          "text": [
            "Epoch 1/30\n",
            "92/92 [==============================] - 5s 57ms/step - loss: 0.0414 - accuracy: 0.9859 - val_loss: 0.9229 - val_accuracy: 0.7841\n",
            "Epoch 2/30\n",
            "92/92 [==============================] - 5s 55ms/step - loss: 0.0471 - accuracy: 0.9832 - val_loss: 0.9568 - val_accuracy: 0.7836\n",
            "Epoch 3/30\n",
            "92/92 [==============================] - 5s 55ms/step - loss: 0.0484 - accuracy: 0.9846 - val_loss: 0.9514 - val_accuracy: 0.7860\n",
            "Epoch 4/30\n",
            "92/92 [==============================] - 5s 55ms/step - loss: 0.0371 - accuracy: 0.9877 - val_loss: 0.8940 - val_accuracy: 0.8018\n",
            "Epoch 5/30\n",
            "92/92 [==============================] - 5s 57ms/step - loss: 0.0492 - accuracy: 0.9844 - val_loss: 0.8682 - val_accuracy: 0.7841\n",
            "Epoch 6/30\n",
            "92/92 [==============================] - 5s 55ms/step - loss: 0.0391 - accuracy: 0.9873 - val_loss: 0.8024 - val_accuracy: 0.8126\n",
            "Epoch 7/30\n",
            "92/92 [==============================] - 5s 56ms/step - loss: 0.0357 - accuracy: 0.9880 - val_loss: 0.8205 - val_accuracy: 0.8023\n",
            "Epoch 8/30\n",
            "92/92 [==============================] - 5s 57ms/step - loss: 0.0339 - accuracy: 0.9882 - val_loss: 0.9525 - val_accuracy: 0.7954\n",
            "Epoch 9/30\n",
            "92/92 [==============================] - 5s 56ms/step - loss: 0.0415 - accuracy: 0.9861 - val_loss: 0.9833 - val_accuracy: 0.7831\n",
            "Epoch 10/30\n",
            "92/92 [==============================] - 5s 55ms/step - loss: 0.0367 - accuracy: 0.9882 - val_loss: 0.9523 - val_accuracy: 0.7954\n",
            "Epoch 11/30\n",
            "92/92 [==============================] - 5s 56ms/step - loss: 0.0394 - accuracy: 0.9869 - val_loss: 0.9866 - val_accuracy: 0.7713\n",
            "Epoch 12/30\n",
            "92/92 [==============================] - 5s 55ms/step - loss: 0.0355 - accuracy: 0.9874 - val_loss: 0.9577 - val_accuracy: 0.7870\n",
            "Epoch 13/30\n",
            "92/92 [==============================] - 5s 54ms/step - loss: 0.0374 - accuracy: 0.9879 - val_loss: 0.9054 - val_accuracy: 0.7959\n",
            "Epoch 14/30\n",
            "92/92 [==============================] - 5s 55ms/step - loss: 0.0324 - accuracy: 0.9884 - val_loss: 0.9455 - val_accuracy: 0.7949\n",
            "Epoch 15/30\n",
            "92/92 [==============================] - 5s 55ms/step - loss: 0.0321 - accuracy: 0.9897 - val_loss: 0.8762 - val_accuracy: 0.8003\n",
            "Epoch 16/30\n",
            "92/92 [==============================] - 5s 55ms/step - loss: 0.0299 - accuracy: 0.9903 - val_loss: 0.8771 - val_accuracy: 0.8111\n",
            "Epoch 17/30\n",
            "92/92 [==============================] - 5s 55ms/step - loss: 0.0387 - accuracy: 0.9869 - val_loss: 0.9526 - val_accuracy: 0.7914\n",
            "Epoch 18/30\n",
            "92/92 [==============================] - 5s 55ms/step - loss: 0.0436 - accuracy: 0.9860 - val_loss: 0.8415 - val_accuracy: 0.8032\n",
            "Epoch 19/30\n",
            "92/92 [==============================] - 5s 55ms/step - loss: 0.0364 - accuracy: 0.9882 - val_loss: 0.8179 - val_accuracy: 0.8023\n",
            "Epoch 20/30\n",
            "92/92 [==============================] - 5s 55ms/step - loss: 0.0317 - accuracy: 0.9890 - val_loss: 0.9162 - val_accuracy: 0.7875\n",
            "Epoch 21/30\n",
            "92/92 [==============================] - 5s 55ms/step - loss: 0.0353 - accuracy: 0.9886 - val_loss: 0.9150 - val_accuracy: 0.7973\n",
            "Epoch 22/30\n",
            "92/92 [==============================] - 5s 55ms/step - loss: 0.0354 - accuracy: 0.9890 - val_loss: 0.9720 - val_accuracy: 0.7973\n",
            "Epoch 23/30\n",
            "92/92 [==============================] - 5s 55ms/step - loss: 0.0367 - accuracy: 0.9868 - val_loss: 0.8870 - val_accuracy: 0.7885\n",
            "Epoch 24/30\n",
            "92/92 [==============================] - 5s 55ms/step - loss: 0.0389 - accuracy: 0.9876 - val_loss: 0.8797 - val_accuracy: 0.7954\n",
            "Epoch 25/30\n",
            "92/92 [==============================] - 5s 55ms/step - loss: 0.0318 - accuracy: 0.9897 - val_loss: 0.8620 - val_accuracy: 0.8037\n",
            "Epoch 26/30\n",
            "92/92 [==============================] - 5s 55ms/step - loss: 0.0315 - accuracy: 0.9898 - val_loss: 0.8632 - val_accuracy: 0.8042\n",
            "Epoch 27/30\n",
            "92/92 [==============================] - 5s 55ms/step - loss: 0.0359 - accuracy: 0.9886 - val_loss: 0.8279 - val_accuracy: 0.8003\n",
            "Epoch 28/30\n",
            "92/92 [==============================] - 5s 55ms/step - loss: 0.0275 - accuracy: 0.9907 - val_loss: 0.8910 - val_accuracy: 0.7983\n",
            "Epoch 29/30\n",
            "92/92 [==============================] - 5s 55ms/step - loss: 0.0284 - accuracy: 0.9899 - val_loss: 1.0251 - val_accuracy: 0.7865\n",
            "Epoch 30/30\n",
            "92/92 [==============================] - 5s 55ms/step - loss: 0.0377 - accuracy: 0.9882 - val_loss: 0.9786 - val_accuracy: 0.7816\n"
          ]
        }
      ],
      "source": [
        "history = img_model.fit(x_train, y_train, epochs=30, batch_size=200, validation_split=0.1)"
      ]
    },
    {
      "cell_type": "code",
      "execution_count": null,
      "metadata": {
        "colab": {
          "base_uri": "https://localhost:8080/"
        },
        "id": "S7_5mZi1vGXm",
        "outputId": "b8f0de08-227a-4ea2-ad24-b12c13cac521"
      },
      "outputs": [
        {
          "output_type": "stream",
          "name": "stdout",
          "text": [
            "159/159 [==============================] - 11s 14ms/step - loss: 1.6090 - accuracy: 0.2198\n"
          ]
        }
      ],
      "source": [
        "test_loss = img_model.evaluate(x_test, y_test)"
      ]
    },
    {
      "cell_type": "code",
      "execution_count": null,
      "metadata": {
        "id": "dBWnvXT1vtNx"
      },
      "outputs": [],
      "source": [
        "img_model.save('/content/drive/MyDrive/emotion.h5')"
      ]
    },
    {
      "cell_type": "code",
      "execution_count": null,
      "metadata": {
        "id": "OydevX3Ga8rO"
      },
      "outputs": [],
      "source": [
        "from tensorflow.keras.models import load_model\n",
        "model = load_model('/content/drive/MyDrive/emotion.h5')"
      ]
    },
    {
      "cell_type": "code",
      "execution_count": null,
      "metadata": {
        "id": "urtMV2Vwb2Sj"
      },
      "outputs": [],
      "source": [
        "classes = [\"Anger\",\"Happy\",\"Love\",\"Sorrow\",\"Surprise\"]"
      ]
    },
    {
      "cell_type": "code",
      "execution_count": null,
      "metadata": {
        "colab": {
          "base_uri": "https://localhost:8080/"
        },
        "id": "BdS1I-nEcCe1",
        "outputId": "9f7e9e52-63ca-4682-e50b-9076d3dc659e"
      },
      "outputs": [
        {
          "output_type": "stream",
          "name": "stdout",
          "text": [
            "20322\n",
            "5081\n"
          ]
        }
      ],
      "source": [
        "print(len(x_train))\n",
        "print(len(x_test))"
      ]
    },
    {
      "cell_type": "code",
      "execution_count": null,
      "metadata": {
        "colab": {
          "base_uri": "https://localhost:8080/",
          "height": 286
        },
        "id": "p6GXEqX2XrSN",
        "outputId": "f19593fe-6d7e-480b-b355-74ae9c8510bb"
      },
      "outputs": [
        {
          "output_type": "stream",
          "name": "stdout",
          "text": [
            "Surprise\n"
          ]
        },
        {
          "output_type": "display_data",
          "data": {
            "image/png": "[encoded data removed]",
            "text/plain": [
              "<Figure size 432x288 with 1 Axes>"
            ]
          },
          "metadata": {
            "needs_background": "light"
          }
        }
      ],
      "source": [
        "import random\n",
        "test = x_test[random.randint(0,5081)]\n",
        "plt.imshow(test.reshape(60,60))\n",
        "test = np.expand_dims(test,axis=0)\n",
        "pred = model.predict(test)\n",
        "print(classes[np.argmax(pred)])"
      ]
    },
    {
      "cell_type": "code",
      "execution_count": null,
      "metadata": {
        "id": "J9qgMoLFnNRB"
      },
      "outputs": [],
      "source": [
        "from keras.models import Sequential\n",
        "from keras.layers import Dense\n",
        "import matplotlib.pyplot as plt\n",
        "import numpy\n",
        "dataset = numpy.load(\"/content/drive/MyDrive/dataset.npy\", allow_pickle=True)\n",
        "# list all data in history\n",
        "print(history.history.keys())\n",
        "# summarize history for accuracy\n",
        "plt.plot(history.history['accuracy'])\n",
        "plt.plot(history.history['val_accuracy'])\n",
        "plt.title('model accuracy')\n",
        "plt.ylabel('accuracy')\n",
        "plt.xlabel('epoch')\n",
        "plt.legend(['train', 'test'], loc='center right')\n",
        "plt.show()\n",
        "# summarize history for loss\n",
        "plt.plot(history.history['loss'])\n",
        "plt.plot(history.history['val_loss'])\n",
        "plt.title('model loss')\n",
        "plt.ylabel('loss')\n",
        "plt.xlabel('epoch')\n",
        "plt.legend(['train', 'test'], loc='center right')\n",
        "plt.show()"
      ]
    },
    {
      "cell_type": "code",
      "source": [
        "from sklearn.metrics import confusion_matrix\n",
        "def plot_confusion_matrix(y_true, y_pred, classes,\n",
        "                          normalize=False,\n",
        "                          title=None,\n",
        "                          cmap=plt.cm.Blues):\n",
        "    \"\"\"\n",
        "    This function prints and plots the confusion matrix.\n",
        "    Normalization can be applied by setting `normalize=True`.\n",
        "    \"\"\"\n",
        "    if not title:\n",
        "        if normalize:\n",
        "            title = 'Normalized confusion matrix'\n",
        "        else:\n",
        "            title = 'Confusion matrix, without normalization'\n",
        "\n",
        "    # Compute confusion matrix\n",
        "    cm = confusion_matrix(y_true, y_pred)\n",
        "    # Only use the labels that appear in the data\n",
        "    classes = classes\n",
        "    if normalize:\n",
        "        cm = cm.astype('float') / cm.sum(axis=1)[:, np.newaxis]\n",
        "        #print(\"Normalized confusion matrix\")\n",
        "    #else:\n",
        "        #print('Confusion matrix, without normalization')\n",
        "\n",
        "    #print(cm)\n",
        "\n",
        "    \n",
        "    fig, ax = plt.subplots(figsize=(12,6))\n",
        "    im = ax.imshow(cm, interpolation='nearest', cmap=cmap)\n",
        "    ax.figure.colorbar(im, ax=ax)\n",
        "    # We want to show all ticks...\n",
        "    ax.set(xticks=np.arange(cm.shape[1]),\n",
        "           yticks=np.arange(cm.shape[0]),\n",
        "           # ... and label them with the respective list entries\n",
        "           xticklabels=classes, yticklabels=classes,\n",
        "           title=title,\n",
        "           ylabel='True label',\n",
        "           xlabel='Predicted label')\n",
        "\n",
        "    # Rotate the tick labels and set their alignment.\n",
        "    plt.setp(ax.get_xticklabels(), rotation=45, ha=\"right\",\n",
        "             rotation_mode=\"anchor\")\n",
        "\n",
        "    # Loop over data dimensions and create text annotations.\n",
        "    fmt = '.2f' if normalize else 'd'\n",
        "    thresh = cm.max() / 2.\n",
        "    for i in range(cm.shape[0]):\n",
        "      for j in range(cm.shape[1]):\n",
        "            ax.text(j, i, format(cm[i, j], fmt),\n",
        "                    ha=\"center\", va=\"center\",\n",
        "                    color=\"white\" if cm[i, j] > thresh else \"black\")\n",
        "    fig.tight_layout()\n",
        "    return ax"
      ],
      "metadata": {
        "id": "DZ4oW5LoHYuJ"
      },
      "execution_count": null,
      "outputs": []
    },
    {
      "cell_type": "code",
      "source": [
        "from sklearn.metrics import accuracy_score\n",
        "test_true = np.argmax(y_test, axis=1)\n",
        "test_pred = np.argmax(model.predict(x_test), axis=1)\n",
        "print(\"CNN Model Accuracy on test set: {:.4f}\".format(accuracy_score(test_true, test_pred)))\n",
        "\n",
        "# Plot normalized confusion matrix\n",
        "plot_confusion_matrix(test_true, test_pred, classes=classes, normalize=True, title='Normalized confusion matrix')\n",
        "plt.show()"
      ],
      "metadata": {
        "colab": {
          "base_uri": "https://localhost:8080/",
          "height": 458
        },
        "id": "E6m3vwzVJg5Z",
        "outputId": "9a204736-1e4c-44dc-80b3-447b2b92d55c"
      },
      "execution_count": null,
      "outputs": [
        {
          "output_type": "stream",
          "name": "stdout",
          "text": [
            "CNN Model Accuracy on test set: 0.7928\n"
          ]
        },
        {
          "output_type": "display_data",
          "data": {
            "image/png": "[encoded data removed]",
            "text/plain": [
              "<Figure size 864x432 with 2 Axes>"
            ]
          },
          "metadata": {
            "needs_background": "light"
          }
        }
      ]
    },
    {
      "cell_type": "code",
      "source": [
        "test_true = np.argmax(y_test, axis=1)\n",
        "test_pred = np.argmax(model.predict(x_test), axis=1)\n",
        "print(\"CNN Model Accuracy on test set: {:.4f}\".format(accuracy_score(test_true, test_pred)))\n",
        "\n",
        "# Plot normalized confusion matrix\n",
        "plot_confusion_matrix(test_true, test_pred, classes=classes, title='Confusion matrix without normalization')\n",
        "plt.show()"
      ],
      "metadata": {
        "colab": {
          "base_uri": "https://localhost:8080/",
          "height": 458
        },
        "id": "q5sCY-T2J4mB",
        "outputId": "69c48061-92fe-47af-c32d-31d8ce8894f4"
      },
      "execution_count": null,
      "outputs": [
        {
          "output_type": "stream",
          "name": "stdout",
          "text": [
            "CNN Model Accuracy on test set: 0.7928\n"
          ]
        },
        {
          "output_type": "display_data",
          "data": {
            "image/png": "[encoded data removed]",
            "text/plain": [
              "<Figure size 864x432 with 2 Axes>"
            ]
          },
          "metadata": {
            "needs_background": "light"
          }
        }
      ]
    },
    {
      "cell_type": "code",
      "source": [],
      "metadata": {
        "id": "j9g7DzWlLLZS"
      },
      "execution_count": null,
      "outputs": []
    },
    {
      "cell_type": "code",
      "execution_count": null,
      "metadata": {
        "colab": {
          "base_uri": "https://localhost:8080/",
          "height": 302
        },
        "id": "h49ssj-SSh64",
        "outputId": "72636862-ebea-4a0a-99ef-23c8fc0270c0"
      },
      "outputs": [
        {
          "output_type": "stream",
          "name": "stdout",
          "text": [
            "8\n",
            "(60, 60, 3)\n"
          ]
        },
        {
          "output_type": "display_data",
          "data": {
            "image/png": "[encoded data removed]",
            "text/plain": [
              "<Figure size 432x288 with 1 Axes>"
            ]
          },
          "metadata": {
            "needs_background": "light"
          }
        }
      ],
      "source": [
        "print(label[41500])\n",
        "plt.imshow(img[41500]) #0-4533 1-4534-9044 2-9045-13722 3-13723-16204  4-16205-21568 5-21569-26432 6-26433-30854 7-30855-36163 8-36164-41500\n",
        "print(img[41500].shape)"
      ]
    }
  ],
  "metadata": {
    "accelerator": "GPU",
    "colab": {
      "collapsed_sections": [],
      "provenance": []
    },
    "kernelspec": {
      "display_name": "Python 3",
      "name": "python3"
    },
    "language_info": {
      "name": "python"
    }
  },
  "nbformat": 4,
  "nbformat_minor": 0
}